{
 "cells": [
  {
   "cell_type": "markdown",
   "metadata": {},
   "source": [
    "## MLB Trade Stats Comparison 2018 and 2019 Final Project¶\n"
   ]
  },
  {
   "cell_type": "markdown",
   "metadata": {},
   "source": [
    "## By: David Gibson"
   ]
  },
  {
   "cell_type": "markdown",
   "metadata": {},
   "source": [
    "## Data in EMAT"
   ]
  },
  {
   "cell_type": "markdown",
   "metadata": {},
   "source": [
    "## Due: 5/11/21"
   ]
  },
  {
   "cell_type": "markdown",
   "metadata": {},
   "source": [
    "## "
   ]
  },
  {
   "cell_type": "markdown",
   "metadata": {},
   "source": [
    "# Proposal"
   ]
  },
  {
   "cell_type": "markdown",
   "metadata": {},
   "source": [
    "##  "
   ]
  },
  {
   "cell_type": "markdown",
   "metadata": {},
   "source": [
    "## My topic proposal is MLB trades from the 2018 and 2019 MLB Seasons. I am a big baseball fan and find this topic very interesting. My question that I will be answering is “What year had the best trades in the MLB, 2018 or 2019?” I will factor in the performance of the player from before and after the trade has been processed. I will then compare the stats from the 2 years and come to a conclusion on what year had the best trades. I will be doing a comparison of batters and pitchers separately. I will probably use MLB.com for stats. \n"
   ]
  },
  {
   "cell_type": "markdown",
   "metadata": {},
   "source": [
    "# Overall Goal Question"
   ]
  },
  {
   "cell_type": "markdown",
   "metadata": {},
   "source": [
    "## My overall question is to see what year had the best trades between 2018 and 2019 in the MLB. I will get the average of the stats from before the trade occurred and compare it to after the trade occurred for both years. Then I will see what year had the best averages (stats). I recieved this data from sportsnet.com, sbnation.com, and baseball-reference.com. I structured the data manually and seperated my data in an ordered fashion for the MLB trades in 2018 and 2019. The higher the batting average (avg), the better. The lower the (era) for pitchers, the better. I created a list of each player who was traded in 2018 and in 2019 in the MLB, where they were traded, and how they performed before and after that trade. Each year has its own data file. For pitchers, I compared their era from before and after the trade. For hitters, I compared their batting averages (avg) from before and after the trade. At the end of this assignment I will be able to see what year was the best for trades.  \n",
    "\n",
    "# Hypothesis\n",
    "\n",
    "## I have watched a lot of baseball in my lifetime and from what I can remember the year 2019 had a better trade year than the year 2018. "
   ]
  },
  {
   "cell_type": "markdown",
   "metadata": {},
   "source": [
    "## Here I loaded in multiple functions that I will use throughout my final project"
   ]
  },
  {
   "cell_type": "code",
   "execution_count": 48,
   "metadata": {},
   "outputs": [],
   "source": [
    "import pandas as pd  \n",
    "from matplotlib import pyplot as plt"
   ]
  },
  {
   "cell_type": "markdown",
   "metadata": {},
   "source": [
    "## "
   ]
  },
  {
   "cell_type": "markdown",
   "metadata": {},
   "source": [
    "# 2018 MLB Trade Data"
   ]
  },
  {
   "cell_type": "markdown",
   "metadata": {},
   "source": [
    "# Batters \n",
    "\n",
    "###  You want to have a high batting average. "
   ]
  },
  {
   "cell_type": "code",
   "execution_count": 2,
   "metadata": {},
   "outputs": [
    {
     "data": {
      "text/html": [
       "<div>\n",
       "<style scoped>\n",
       "    .dataframe tbody tr th:only-of-type {\n",
       "        vertical-align: middle;\n",
       "    }\n",
       "\n",
       "    .dataframe tbody tr th {\n",
       "        vertical-align: top;\n",
       "    }\n",
       "\n",
       "    .dataframe thead th {\n",
       "        text-align: right;\n",
       "    }\n",
       "</style>\n",
       "<table border=\"1\" class=\"dataframe\">\n",
       "  <thead>\n",
       "    <tr style=\"text-align: right;\">\n",
       "      <th></th>\n",
       "      <th></th>\n",
       "      <th></th>\n",
       "      <th></th>\n",
       "      <th>MLB Trade Stats 2018 Batters</th>\n",
       "    </tr>\n",
       "  </thead>\n",
       "  <tbody>\n",
       "    <tr>\n",
       "      <th></th>\n",
       "      <th>Name</th>\n",
       "      <th>Team</th>\n",
       "      <th>BeforeTradeAVG</th>\n",
       "      <td>AfterTradeAVG</td>\n",
       "    </tr>\n",
       "    <tr>\n",
       "      <th>0</th>\n",
       "      <th>Jonathan Schoop</th>\n",
       "      <th>Brewers</th>\n",
       "      <th>.244</th>\n",
       "      <td>.202</td>\n",
       "    </tr>\n",
       "    <tr>\n",
       "      <th>1</th>\n",
       "      <th>Austin Meadows</th>\n",
       "      <th>Rays</th>\n",
       "      <th>.292</th>\n",
       "      <td>.250</td>\n",
       "    </tr>\n",
       "    <tr>\n",
       "      <th>2</th>\n",
       "      <th>Brian Dozier</th>\n",
       "      <th>Dodgers</th>\n",
       "      <th>.227</th>\n",
       "      <td>.182</td>\n",
       "    </tr>\n",
       "    <tr>\n",
       "      <th>3</th>\n",
       "      <th>Logan Forsythe</th>\n",
       "      <th>Twins</th>\n",
       "      <th>.207</th>\n",
       "      <td>.258</td>\n",
       "    </tr>\n",
       "  </tbody>\n",
       "</table>\n",
       "</div>"
      ],
      "text/plain": [
       "                                            MLB Trade Stats 2018 Batters \n",
       "  Name              Team     BeforeTradeAVG                AfterTradeAVG \n",
       "0  Jonathan Schoop  Brewers   .244                                 .202  \n",
       "1  Austin Meadows   Rays      .292                                .250   \n",
       "2  Brian Dozier     Dodgers   .227                                 .182  \n",
       "3  Logan Forsythe   Twins     .207                               .258    "
      ]
     },
     "execution_count": 2,
     "metadata": {},
     "output_type": "execute_result"
    }
   ],
   "source": [
    "MLB2018batters = pd.read_csv(r\"/Users/davidgibson/Desktop/MLBstats2018batters.csv\")\n",
    "MLB2018batters.head()"
   ]
  },
  {
   "cell_type": "markdown",
   "metadata": {},
   "source": [
    "# 2018 MLB Batters AVG Before Trade"
   ]
  },
  {
   "cell_type": "code",
   "execution_count": 3,
   "metadata": {},
   "outputs": [
    {
     "data": {
      "text/html": [
       "<div>\n",
       "<style scoped>\n",
       "    .dataframe tbody tr th:only-of-type {\n",
       "        vertical-align: middle;\n",
       "    }\n",
       "\n",
       "    .dataframe tbody tr th {\n",
       "        vertical-align: top;\n",
       "    }\n",
       "\n",
       "    .dataframe thead th {\n",
       "        text-align: right;\n",
       "    }\n",
       "</style>\n",
       "<table border=\"1\" class=\"dataframe\">\n",
       "  <thead>\n",
       "    <tr style=\"text-align: right;\">\n",
       "      <th></th>\n",
       "      <th>BeforeTradeAVG</th>\n",
       "    </tr>\n",
       "  </thead>\n",
       "  <tbody>\n",
       "    <tr>\n",
       "      <th>0</th>\n",
       "      <td>0.244</td>\n",
       "    </tr>\n",
       "    <tr>\n",
       "      <th>1</th>\n",
       "      <td>0.292</td>\n",
       "    </tr>\n",
       "    <tr>\n",
       "      <th>2</th>\n",
       "      <td>0.227</td>\n",
       "    </tr>\n",
       "    <tr>\n",
       "      <th>3</th>\n",
       "      <td>0.207</td>\n",
       "    </tr>\n",
       "    <tr>\n",
       "      <th>4</th>\n",
       "      <td>0.297</td>\n",
       "    </tr>\n",
       "  </tbody>\n",
       "</table>\n",
       "</div>"
      ],
      "text/plain": [
       "   BeforeTradeAVG \n",
       "0            0.244\n",
       "1            0.292\n",
       "2            0.227\n",
       "3            0.207\n",
       "4            0.297"
      ]
     },
     "execution_count": 3,
     "metadata": {},
     "output_type": "execute_result"
    }
   ],
   "source": [
    "MLB2018batters_BeforeTradeAVG = pd.read_csv(r\"/Users/davidgibson/Desktop/MLB2018batters_BeforeTradeAVG.csv\")\n",
    "MLB2018batters_BeforeTradeAVG.head()"
   ]
  },
  {
   "cell_type": "markdown",
   "metadata": {},
   "source": [
    "# 2018 MLB Batters AVG After Trade"
   ]
  },
  {
   "cell_type": "code",
   "execution_count": 4,
   "metadata": {},
   "outputs": [
    {
     "data": {
      "text/html": [
       "<div>\n",
       "<style scoped>\n",
       "    .dataframe tbody tr th:only-of-type {\n",
       "        vertical-align: middle;\n",
       "    }\n",
       "\n",
       "    .dataframe tbody tr th {\n",
       "        vertical-align: top;\n",
       "    }\n",
       "\n",
       "    .dataframe thead th {\n",
       "        text-align: right;\n",
       "    }\n",
       "</style>\n",
       "<table border=\"1\" class=\"dataframe\">\n",
       "  <thead>\n",
       "    <tr style=\"text-align: right;\">\n",
       "      <th></th>\n",
       "      <th>AfterTradeAVG</th>\n",
       "    </tr>\n",
       "  </thead>\n",
       "  <tbody>\n",
       "    <tr>\n",
       "      <th>0</th>\n",
       "      <td>0.202</td>\n",
       "    </tr>\n",
       "    <tr>\n",
       "      <th>1</th>\n",
       "      <td>0.250</td>\n",
       "    </tr>\n",
       "    <tr>\n",
       "      <th>2</th>\n",
       "      <td>0.182</td>\n",
       "    </tr>\n",
       "    <tr>\n",
       "      <th>3</th>\n",
       "      <td>0.258</td>\n",
       "    </tr>\n",
       "    <tr>\n",
       "      <th>4</th>\n",
       "      <td>0.337</td>\n",
       "    </tr>\n",
       "  </tbody>\n",
       "</table>\n",
       "</div>"
      ],
      "text/plain": [
       "   AfterTradeAVG \n",
       "0           0.202\n",
       "1           0.250\n",
       "2           0.182\n",
       "3           0.258\n",
       "4           0.337"
      ]
     },
     "execution_count": 4,
     "metadata": {},
     "output_type": "execute_result"
    }
   ],
   "source": [
    "MLB2018batters_AfterTradeAVG = pd.read_csv(r\"/Users/davidgibson/Desktop/MLB2018batters_AfterTradeAVG.csv\") \n",
    "MLB2018batters_AfterTradeAVG.head()"
   ]
  },
  {
   "cell_type": "markdown",
   "metadata": {},
   "source": [
    "# Pitchers \n",
    "\n",
    "### You want to have a low ERA. "
   ]
  },
  {
   "cell_type": "code",
   "execution_count": 5,
   "metadata": {},
   "outputs": [
    {
     "data": {
      "text/html": [
       "<div>\n",
       "<style scoped>\n",
       "    .dataframe tbody tr th:only-of-type {\n",
       "        vertical-align: middle;\n",
       "    }\n",
       "\n",
       "    .dataframe tbody tr th {\n",
       "        vertical-align: top;\n",
       "    }\n",
       "\n",
       "    .dataframe thead th {\n",
       "        text-align: right;\n",
       "    }\n",
       "</style>\n",
       "<table border=\"1\" class=\"dataframe\">\n",
       "  <thead>\n",
       "    <tr style=\"text-align: right;\">\n",
       "      <th></th>\n",
       "      <th></th>\n",
       "      <th></th>\n",
       "      <th></th>\n",
       "      <th>MLB Trade Stats 2018 Pitchers</th>\n",
       "    </tr>\n",
       "  </thead>\n",
       "  <tbody>\n",
       "    <tr>\n",
       "      <th></th>\n",
       "      <th>Name</th>\n",
       "      <th>Team</th>\n",
       "      <th>BeforeTradeERA</th>\n",
       "      <td>AfterTradeERA</td>\n",
       "    </tr>\n",
       "    <tr>\n",
       "      <th>0</th>\n",
       "      <th>Jake Diekman</th>\n",
       "      <th>Diamondbacks</th>\n",
       "      <th>3.69</th>\n",
       "      <td>7.53</td>\n",
       "    </tr>\n",
       "    <tr>\n",
       "      <th>1</th>\n",
       "      <th>Kevin Gausman</th>\n",
       "      <th>Braves</th>\n",
       "      <th>4.43</th>\n",
       "      <td>2.87</td>\n",
       "    </tr>\n",
       "    <tr>\n",
       "      <th>2</th>\n",
       "      <th>Chris Archer</th>\n",
       "      <th>Pirates</th>\n",
       "      <th>4.31</th>\n",
       "      <td>4.30</td>\n",
       "    </tr>\n",
       "    <tr>\n",
       "      <th>3</th>\n",
       "      <th>Tyler Glasnow</th>\n",
       "      <th>Rays</th>\n",
       "      <th>4.34</th>\n",
       "      <td>4.20</td>\n",
       "    </tr>\n",
       "  </tbody>\n",
       "</table>\n",
       "</div>"
      ],
      "text/plain": [
       "                                               MLB Trade Stats 2018 Pitchers \n",
       "  Name            Team          BeforeTradeERA                  AfterTradeERA\n",
       "0  Jake Diekman   Diamondbacks   3.69                                  7.53  \n",
       "1  Kevin Gausman  Braves         4.43                                   2.87 \n",
       "2  Chris Archer   Pirates        4.31                                   4.30 \n",
       "3  Tyler Glasnow  Rays           4.34                                  4.20  "
      ]
     },
     "execution_count": 5,
     "metadata": {},
     "output_type": "execute_result"
    }
   ],
   "source": [
    "MLB2018pitchers = pd.read_csv(r\"/Users/davidgibson/Desktop/MLBstats2018pitchers.csv\")\n",
    "MLB2018pitchers.head()"
   ]
  },
  {
   "cell_type": "markdown",
   "metadata": {},
   "source": [
    "# 2018 MLB Pitchers ERA Before Trade"
   ]
  },
  {
   "cell_type": "code",
   "execution_count": 6,
   "metadata": {},
   "outputs": [
    {
     "data": {
      "text/html": [
       "<div>\n",
       "<style scoped>\n",
       "    .dataframe tbody tr th:only-of-type {\n",
       "        vertical-align: middle;\n",
       "    }\n",
       "\n",
       "    .dataframe tbody tr th {\n",
       "        vertical-align: top;\n",
       "    }\n",
       "\n",
       "    .dataframe thead th {\n",
       "        text-align: right;\n",
       "    }\n",
       "</style>\n",
       "<table border=\"1\" class=\"dataframe\">\n",
       "  <thead>\n",
       "    <tr style=\"text-align: right;\">\n",
       "      <th></th>\n",
       "      <th>BeforeTradeERA</th>\n",
       "    </tr>\n",
       "  </thead>\n",
       "  <tbody>\n",
       "    <tr>\n",
       "      <th>0</th>\n",
       "      <td>3.69</td>\n",
       "    </tr>\n",
       "    <tr>\n",
       "      <th>1</th>\n",
       "      <td>4.43</td>\n",
       "    </tr>\n",
       "    <tr>\n",
       "      <th>2</th>\n",
       "      <td>4.31</td>\n",
       "    </tr>\n",
       "    <tr>\n",
       "      <th>3</th>\n",
       "      <td>4.34</td>\n",
       "    </tr>\n",
       "    <tr>\n",
       "      <th>4</th>\n",
       "      <td>3.59</td>\n",
       "    </tr>\n",
       "  </tbody>\n",
       "</table>\n",
       "</div>"
      ],
      "text/plain": [
       "   BeforeTradeERA\n",
       "0            3.69\n",
       "1            4.43\n",
       "2            4.31\n",
       "3            4.34\n",
       "4            3.59"
      ]
     },
     "execution_count": 6,
     "metadata": {},
     "output_type": "execute_result"
    }
   ],
   "source": [
    "MLB2018pitchers_BeforeTradeERA = pd.read_csv(r\"/Users/davidgibson/Desktop/MLB2018pitchers_BeforeTradeERA.csv\")\n",
    "MLB2018pitchers_BeforeTradeERA.head()"
   ]
  },
  {
   "cell_type": "markdown",
   "metadata": {},
   "source": [
    "# 2018 MLB Pitchers ERA After Trade"
   ]
  },
  {
   "cell_type": "code",
   "execution_count": 7,
   "metadata": {},
   "outputs": [
    {
     "data": {
      "text/html": [
       "<div>\n",
       "<style scoped>\n",
       "    .dataframe tbody tr th:only-of-type {\n",
       "        vertical-align: middle;\n",
       "    }\n",
       "\n",
       "    .dataframe tbody tr th {\n",
       "        vertical-align: top;\n",
       "    }\n",
       "\n",
       "    .dataframe thead th {\n",
       "        text-align: right;\n",
       "    }\n",
       "</style>\n",
       "<table border=\"1\" class=\"dataframe\">\n",
       "  <thead>\n",
       "    <tr style=\"text-align: right;\">\n",
       "      <th></th>\n",
       "      <th>AfterTradeERA</th>\n",
       "    </tr>\n",
       "  </thead>\n",
       "  <tbody>\n",
       "    <tr>\n",
       "      <th>0</th>\n",
       "      <td>7.53</td>\n",
       "    </tr>\n",
       "    <tr>\n",
       "      <th>1</th>\n",
       "      <td>2.87</td>\n",
       "    </tr>\n",
       "    <tr>\n",
       "      <th>2</th>\n",
       "      <td>4.30</td>\n",
       "    </tr>\n",
       "    <tr>\n",
       "      <th>3</th>\n",
       "      <td>4.20</td>\n",
       "    </tr>\n",
       "    <tr>\n",
       "      <th>4</th>\n",
       "      <td>7.00</td>\n",
       "    </tr>\n",
       "  </tbody>\n",
       "</table>\n",
       "</div>"
      ],
      "text/plain": [
       "   AfterTradeERA\n",
       "0           7.53\n",
       "1           2.87\n",
       "2           4.30\n",
       "3           4.20\n",
       "4           7.00"
      ]
     },
     "execution_count": 7,
     "metadata": {},
     "output_type": "execute_result"
    }
   ],
   "source": [
    "MLB2018pitchers_AfterTradeERA = pd.read_csv(r\"/Users/davidgibson/Desktop/MLB2018pitchers_AfterTradeERA.csv\")\n",
    "MLB2018pitchers_AfterTradeERA.head()"
   ]
  },
  {
   "cell_type": "markdown",
   "metadata": {},
   "source": [
    "## "
   ]
  },
  {
   "cell_type": "markdown",
   "metadata": {},
   "source": [
    "# 2019 MLB Trade Data "
   ]
  },
  {
   "cell_type": "markdown",
   "metadata": {},
   "source": [
    "## "
   ]
  },
  {
   "cell_type": "markdown",
   "metadata": {},
   "source": [
    "# Batters "
   ]
  },
  {
   "cell_type": "code",
   "execution_count": 8,
   "metadata": {},
   "outputs": [
    {
     "data": {
      "text/html": [
       "<div>\n",
       "<style scoped>\n",
       "    .dataframe tbody tr th:only-of-type {\n",
       "        vertical-align: middle;\n",
       "    }\n",
       "\n",
       "    .dataframe tbody tr th {\n",
       "        vertical-align: top;\n",
       "    }\n",
       "\n",
       "    .dataframe thead th {\n",
       "        text-align: right;\n",
       "    }\n",
       "</style>\n",
       "<table border=\"1\" class=\"dataframe\">\n",
       "  <thead>\n",
       "    <tr style=\"text-align: right;\">\n",
       "      <th></th>\n",
       "      <th></th>\n",
       "      <th></th>\n",
       "      <th></th>\n",
       "      <th>MLB Trade Stats 2019 Batters</th>\n",
       "    </tr>\n",
       "  </thead>\n",
       "  <tbody>\n",
       "    <tr>\n",
       "      <th></th>\n",
       "      <th>Name</th>\n",
       "      <th>Team</th>\n",
       "      <th>BeforeTradeAVG</th>\n",
       "      <td>AfterTradeAVG</td>\n",
       "    </tr>\n",
       "    <tr>\n",
       "      <th>0</th>\n",
       "      <th>Scooter Gennett</th>\n",
       "      <th>Giants</th>\n",
       "      <th>.217</th>\n",
       "      <td>.234</td>\n",
       "    </tr>\n",
       "    <tr>\n",
       "      <th>1</th>\n",
       "      <th>Nicholas Castellanos</th>\n",
       "      <th>Cubs</th>\n",
       "      <th>.273</th>\n",
       "      <td>.321</td>\n",
       "    </tr>\n",
       "    <tr>\n",
       "      <th>2</th>\n",
       "      <th>Max Stassi</th>\n",
       "      <th>Angels</th>\n",
       "      <th>.167</th>\n",
       "      <td>.071</td>\n",
       "    </tr>\n",
       "    <tr>\n",
       "      <th>3</th>\n",
       "      <th>Derek Fisher</th>\n",
       "      <th>Blue Jays</th>\n",
       "      <th>.226</th>\n",
       "      <td>.161</td>\n",
       "    </tr>\n",
       "  </tbody>\n",
       "</table>\n",
       "</div>"
      ],
      "text/plain": [
       "                                                   MLB Trade Stats 2019 Batters \n",
       "  Name                   Team       BeforeTradeAVG                 AfterTradeAVG\n",
       "0  Scooter Gennett       Giants      .217                                 .234  \n",
       "1  Nicholas Castellanos  Cubs        .273                                  .321 \n",
       "2  Max Stassi            Angels      .167                                  .071 \n",
       "3  Derek Fisher          Blue Jays   .226                                  .161 "
      ]
     },
     "execution_count": 8,
     "metadata": {},
     "output_type": "execute_result"
    }
   ],
   "source": [
    "MLB2019batters = pd.read_csv(r\"/Users/davidgibson/Desktop/MLBstats2019batters.csv\")\n",
    "MLB2019batters.head()"
   ]
  },
  {
   "cell_type": "markdown",
   "metadata": {},
   "source": [
    "# 2019 MLB Batters AVG Before Trade "
   ]
  },
  {
   "cell_type": "code",
   "execution_count": 9,
   "metadata": {},
   "outputs": [
    {
     "data": {
      "text/html": [
       "<div>\n",
       "<style scoped>\n",
       "    .dataframe tbody tr th:only-of-type {\n",
       "        vertical-align: middle;\n",
       "    }\n",
       "\n",
       "    .dataframe tbody tr th {\n",
       "        vertical-align: top;\n",
       "    }\n",
       "\n",
       "    .dataframe thead th {\n",
       "        text-align: right;\n",
       "    }\n",
       "</style>\n",
       "<table border=\"1\" class=\"dataframe\">\n",
       "  <thead>\n",
       "    <tr style=\"text-align: right;\">\n",
       "      <th></th>\n",
       "      <th>BeforeTradeAVG</th>\n",
       "    </tr>\n",
       "  </thead>\n",
       "  <tbody>\n",
       "    <tr>\n",
       "      <th>0</th>\n",
       "      <td>0.217</td>\n",
       "    </tr>\n",
       "    <tr>\n",
       "      <th>1</th>\n",
       "      <td>0.273</td>\n",
       "    </tr>\n",
       "    <tr>\n",
       "      <th>2</th>\n",
       "      <td>0.167</td>\n",
       "    </tr>\n",
       "    <tr>\n",
       "      <th>3</th>\n",
       "      <td>0.226</td>\n",
       "    </tr>\n",
       "    <tr>\n",
       "      <th>4</th>\n",
       "      <td>0.177</td>\n",
       "    </tr>\n",
       "  </tbody>\n",
       "</table>\n",
       "</div>"
      ],
      "text/plain": [
       "   BeforeTradeAVG \n",
       "0            0.217\n",
       "1            0.273\n",
       "2            0.167\n",
       "3            0.226\n",
       "4            0.177"
      ]
     },
     "execution_count": 9,
     "metadata": {},
     "output_type": "execute_result"
    }
   ],
   "source": [
    "MLB2019batters_BeforeTradeAVG = pd.read_csv(r\"/Users/davidgibson/Desktop/MLB2019batters_BeforeTradeAVG.csv\")\n",
    "MLB2019batters_BeforeTradeAVG.head()"
   ]
  },
  {
   "cell_type": "markdown",
   "metadata": {},
   "source": [
    "# 2019 MLB Batters AVG After Trade "
   ]
  },
  {
   "cell_type": "code",
   "execution_count": 10,
   "metadata": {},
   "outputs": [
    {
     "data": {
      "text/html": [
       "<div>\n",
       "<style scoped>\n",
       "    .dataframe tbody tr th:only-of-type {\n",
       "        vertical-align: middle;\n",
       "    }\n",
       "\n",
       "    .dataframe tbody tr th {\n",
       "        vertical-align: top;\n",
       "    }\n",
       "\n",
       "    .dataframe thead th {\n",
       "        text-align: right;\n",
       "    }\n",
       "</style>\n",
       "<table border=\"1\" class=\"dataframe\">\n",
       "  <thead>\n",
       "    <tr style=\"text-align: right;\">\n",
       "      <th></th>\n",
       "      <th>AfterTradeAVG</th>\n",
       "    </tr>\n",
       "  </thead>\n",
       "  <tbody>\n",
       "    <tr>\n",
       "      <th>0</th>\n",
       "      <td>0.234</td>\n",
       "    </tr>\n",
       "    <tr>\n",
       "      <th>1</th>\n",
       "      <td>0.321</td>\n",
       "    </tr>\n",
       "    <tr>\n",
       "      <th>2</th>\n",
       "      <td>0.071</td>\n",
       "    </tr>\n",
       "    <tr>\n",
       "      <th>3</th>\n",
       "      <td>0.161</td>\n",
       "    </tr>\n",
       "    <tr>\n",
       "      <th>4</th>\n",
       "      <td>0.000</td>\n",
       "    </tr>\n",
       "  </tbody>\n",
       "</table>\n",
       "</div>"
      ],
      "text/plain": [
       "   AfterTradeAVG \n",
       "0           0.234\n",
       "1           0.321\n",
       "2           0.071\n",
       "3           0.161\n",
       "4           0.000"
      ]
     },
     "execution_count": 10,
     "metadata": {},
     "output_type": "execute_result"
    }
   ],
   "source": [
    "MLB2019batters_AfterTradeAVG = pd.read_csv(r\"/Users/davidgibson/Desktop/MLB2019batters_AfterTradeAVG.csv\")\n",
    "MLB2019batters_AfterTradeAVG.head()  "
   ]
  },
  {
   "cell_type": "markdown",
   "metadata": {},
   "source": [
    "# Pitchers "
   ]
  },
  {
   "cell_type": "code",
   "execution_count": 11,
   "metadata": {},
   "outputs": [
    {
     "data": {
      "text/html": [
       "<div>\n",
       "<style scoped>\n",
       "    .dataframe tbody tr th:only-of-type {\n",
       "        vertical-align: middle;\n",
       "    }\n",
       "\n",
       "    .dataframe tbody tr th {\n",
       "        vertical-align: top;\n",
       "    }\n",
       "\n",
       "    .dataframe thead th {\n",
       "        text-align: right;\n",
       "    }\n",
       "</style>\n",
       "<table border=\"1\" class=\"dataframe\">\n",
       "  <thead>\n",
       "    <tr style=\"text-align: right;\">\n",
       "      <th></th>\n",
       "      <th></th>\n",
       "      <th></th>\n",
       "      <th></th>\n",
       "      <th>MLB Trade Stats 2019 Pitchers</th>\n",
       "    </tr>\n",
       "  </thead>\n",
       "  <tbody>\n",
       "    <tr>\n",
       "      <th></th>\n",
       "      <th>Name</th>\n",
       "      <th>Team</th>\n",
       "      <th>BeforeTradeERA</th>\n",
       "      <td>AfterTradeERA</td>\n",
       "    </tr>\n",
       "    <tr>\n",
       "      <th>0</th>\n",
       "      <th>Adam Kolarek</th>\n",
       "      <th>Dodgers</th>\n",
       "      <th>3.95</th>\n",
       "      <td>0.77</td>\n",
       "    </tr>\n",
       "    <tr>\n",
       "      <th>1</th>\n",
       "      <th>Sam Dyson</th>\n",
       "      <th>Twins</th>\n",
       "      <th>2.47</th>\n",
       "      <td>7.15</td>\n",
       "    </tr>\n",
       "    <tr>\n",
       "      <th>2</th>\n",
       "      <th>Mark Melancon</th>\n",
       "      <th>Braves</th>\n",
       "      <th>3.50</th>\n",
       "      <td>3.86</td>\n",
       "    </tr>\n",
       "    <tr>\n",
       "      <th>3</th>\n",
       "      <th>Zack Greinke</th>\n",
       "      <th>Astros</th>\n",
       "      <th>2.90</th>\n",
       "      <td>3.02</td>\n",
       "    </tr>\n",
       "  </tbody>\n",
       "</table>\n",
       "</div>"
      ],
      "text/plain": [
       "                                          MLB Trade Stats 2019 Pitchers \n",
       "  Name            Team     BeforeTradeERA                 AfterTradeERA \n",
       "0  Adam Kolarek   Dodgers   3.95                                  0.77  \n",
       "1  Sam Dyson      Twins     2.47                                 7.15   \n",
       "2  Mark Melancon  Braves    3.50                                   3.86 \n",
       "3  Zack Greinke   Astros    2.90                                   3.02 "
      ]
     },
     "execution_count": 11,
     "metadata": {},
     "output_type": "execute_result"
    }
   ],
   "source": [
    "MLB2019pitchers = pd.read_csv(r\"/Users/davidgibson/Desktop/MLBstats2019pitchers.csv\")\n",
    "MLB2019pitchers.head()"
   ]
  },
  {
   "cell_type": "markdown",
   "metadata": {},
   "source": [
    "# 2019 MLB Pitchers ERA Before Trade "
   ]
  },
  {
   "cell_type": "code",
   "execution_count": 12,
   "metadata": {},
   "outputs": [
    {
     "data": {
      "text/html": [
       "<div>\n",
       "<style scoped>\n",
       "    .dataframe tbody tr th:only-of-type {\n",
       "        vertical-align: middle;\n",
       "    }\n",
       "\n",
       "    .dataframe tbody tr th {\n",
       "        vertical-align: top;\n",
       "    }\n",
       "\n",
       "    .dataframe thead th {\n",
       "        text-align: right;\n",
       "    }\n",
       "</style>\n",
       "<table border=\"1\" class=\"dataframe\">\n",
       "  <thead>\n",
       "    <tr style=\"text-align: right;\">\n",
       "      <th></th>\n",
       "      <th>BeforeTradeERA</th>\n",
       "    </tr>\n",
       "  </thead>\n",
       "  <tbody>\n",
       "    <tr>\n",
       "      <th>0</th>\n",
       "      <td>3.95</td>\n",
       "    </tr>\n",
       "    <tr>\n",
       "      <th>1</th>\n",
       "      <td>2.47</td>\n",
       "    </tr>\n",
       "    <tr>\n",
       "      <th>2</th>\n",
       "      <td>3.50</td>\n",
       "    </tr>\n",
       "    <tr>\n",
       "      <th>3</th>\n",
       "      <td>2.90</td>\n",
       "    </tr>\n",
       "    <tr>\n",
       "      <th>4</th>\n",
       "      <td>4.27</td>\n",
       "    </tr>\n",
       "  </tbody>\n",
       "</table>\n",
       "</div>"
      ],
      "text/plain": [
       "   BeforeTradeERA \n",
       "0             3.95\n",
       "1             2.47\n",
       "2             3.50\n",
       "3             2.90\n",
       "4             4.27"
      ]
     },
     "execution_count": 12,
     "metadata": {},
     "output_type": "execute_result"
    }
   ],
   "source": [
    "MLB2019pitchers_BeforeTradeERA = pd.read_csv(r\"/Users/davidgibson/Desktop/MLB2019pitchers_BeforeTradeERA.csv\")\n",
    "MLB2019pitchers_BeforeTradeERA.head() "
   ]
  },
  {
   "cell_type": "markdown",
   "metadata": {},
   "source": [
    "# 2019 MLB Pitchers ERA After Trade  "
   ]
  },
  {
   "cell_type": "code",
   "execution_count": 13,
   "metadata": {},
   "outputs": [
    {
     "data": {
      "text/html": [
       "<div>\n",
       "<style scoped>\n",
       "    .dataframe tbody tr th:only-of-type {\n",
       "        vertical-align: middle;\n",
       "    }\n",
       "\n",
       "    .dataframe tbody tr th {\n",
       "        vertical-align: top;\n",
       "    }\n",
       "\n",
       "    .dataframe thead th {\n",
       "        text-align: right;\n",
       "    }\n",
       "</style>\n",
       "<table border=\"1\" class=\"dataframe\">\n",
       "  <thead>\n",
       "    <tr style=\"text-align: right;\">\n",
       "      <th></th>\n",
       "      <th>AfterTradeERA</th>\n",
       "    </tr>\n",
       "  </thead>\n",
       "  <tbody>\n",
       "    <tr>\n",
       "      <th>0</th>\n",
       "      <td>0.77</td>\n",
       "    </tr>\n",
       "    <tr>\n",
       "      <th>1</th>\n",
       "      <td>7.15</td>\n",
       "    </tr>\n",
       "    <tr>\n",
       "      <th>2</th>\n",
       "      <td>3.86</td>\n",
       "    </tr>\n",
       "    <tr>\n",
       "      <th>3</th>\n",
       "      <td>3.02</td>\n",
       "    </tr>\n",
       "    <tr>\n",
       "      <th>4</th>\n",
       "      <td>4.35</td>\n",
       "    </tr>\n",
       "  </tbody>\n",
       "</table>\n",
       "</div>"
      ],
      "text/plain": [
       "   AfterTradeERA \n",
       "0            0.77\n",
       "1            7.15\n",
       "2            3.86\n",
       "3            3.02\n",
       "4            4.35"
      ]
     },
     "execution_count": 13,
     "metadata": {},
     "output_type": "execute_result"
    }
   ],
   "source": [
    "MLB2019pitchers_AfterTradeERA = pd.read_csv(r\"/Users/davidgibson/Desktop/MLB2019pitchers_AfterTradeERA.csv\") \n",
    "MLB2019pitchers_AfterTradeERA.head() "
   ]
  },
  {
   "cell_type": "markdown",
   "metadata": {},
   "source": [
    "# I am going to begin by working with the MLB trade data from 2018. Here I will display the stats of every player who was traded in 2018.   "
   ]
  },
  {
   "cell_type": "code",
   "execution_count": 14,
   "metadata": {},
   "outputs": [
    {
     "data": {
      "text/html": [
       "<div>\n",
       "<style scoped>\n",
       "    .dataframe tbody tr th:only-of-type {\n",
       "        vertical-align: middle;\n",
       "    }\n",
       "\n",
       "    .dataframe tbody tr th {\n",
       "        vertical-align: top;\n",
       "    }\n",
       "\n",
       "    .dataframe thead th {\n",
       "        text-align: right;\n",
       "    }\n",
       "</style>\n",
       "<table border=\"1\" class=\"dataframe\">\n",
       "  <thead>\n",
       "    <tr style=\"text-align: right;\">\n",
       "      <th></th>\n",
       "      <th></th>\n",
       "      <th></th>\n",
       "      <th></th>\n",
       "      <th>MLB Trade Stats 2018 Batters</th>\n",
       "    </tr>\n",
       "  </thead>\n",
       "  <tbody>\n",
       "    <tr>\n",
       "      <th></th>\n",
       "      <th>Name</th>\n",
       "      <th>Team</th>\n",
       "      <th>BeforeTradeAVG</th>\n",
       "      <td>AfterTradeAVG</td>\n",
       "    </tr>\n",
       "    <tr>\n",
       "      <th>0</th>\n",
       "      <th>Jonathan Schoop</th>\n",
       "      <th>Brewers</th>\n",
       "      <th>.244</th>\n",
       "      <td>.202</td>\n",
       "    </tr>\n",
       "    <tr>\n",
       "      <th>1</th>\n",
       "      <th>Austin Meadows</th>\n",
       "      <th>Rays</th>\n",
       "      <th>.292</th>\n",
       "      <td>.250</td>\n",
       "    </tr>\n",
       "    <tr>\n",
       "      <th>2</th>\n",
       "      <th>Brian Dozier</th>\n",
       "      <th>Dodgers</th>\n",
       "      <th>.227</th>\n",
       "      <td>.182</td>\n",
       "    </tr>\n",
       "    <tr>\n",
       "      <th>3</th>\n",
       "      <th>Logan Forsythe</th>\n",
       "      <th>Twins</th>\n",
       "      <th>.207</th>\n",
       "      <td>.258</td>\n",
       "    </tr>\n",
       "    <tr>\n",
       "      <th>4</th>\n",
       "      <th>Wilson Ramos</th>\n",
       "      <th>Phillies</th>\n",
       "      <th>.297</th>\n",
       "      <td>.337</td>\n",
       "    </tr>\n",
       "    <tr>\n",
       "      <th>5</th>\n",
       "      <th>Leonys Martin</th>\n",
       "      <th>Indians</th>\n",
       "      <th>.251</th>\n",
       "      <td>.333</td>\n",
       "    </tr>\n",
       "    <tr>\n",
       "      <th>6</th>\n",
       "      <th>Tommy Pham</th>\n",
       "      <th>Rays</th>\n",
       "      <th>.248</th>\n",
       "      <td>.343</td>\n",
       "    </tr>\n",
       "    <tr>\n",
       "      <th>7</th>\n",
       "      <th>Ian Kinsler</th>\n",
       "      <th>Red Sox</th>\n",
       "      <th>.239</th>\n",
       "      <td>.242</td>\n",
       "    </tr>\n",
       "    <tr>\n",
       "      <th>8</th>\n",
       "      <th>Adam Duvall</th>\n",
       "      <th>Braves</th>\n",
       "      <th>.205</th>\n",
       "      <td>.132</td>\n",
       "    </tr>\n",
       "    <tr>\n",
       "      <th>9</th>\n",
       "      <th>Luke Voit</th>\n",
       "      <th>Yankees</th>\n",
       "      <th>.182</th>\n",
       "      <td>.333</td>\n",
       "    </tr>\n",
       "    <tr>\n",
       "      <th>10</th>\n",
       "      <th>Mike Moustakas</th>\n",
       "      <th>Brewers</th>\n",
       "      <th>.249</th>\n",
       "      <td>.256</td>\n",
       "    </tr>\n",
       "    <tr>\n",
       "      <th>11</th>\n",
       "      <th>Asdrubal Cabrera</th>\n",
       "      <th>Phillies</th>\n",
       "      <th>.277</th>\n",
       "      <td>.228</td>\n",
       "    </tr>\n",
       "    <tr>\n",
       "      <th>12</th>\n",
       "      <th>Eduardo Escobar</th>\n",
       "      <th>Diamondbacks</th>\n",
       "      <th>.274</th>\n",
       "      <td>.268</td>\n",
       "    </tr>\n",
       "    <tr>\n",
       "      <th>13</th>\n",
       "      <th>Brandon Drury</th>\n",
       "      <th>Blue Jays</th>\n",
       "      <th>.176</th>\n",
       "      <td>.154</td>\n",
       "    </tr>\n",
       "    <tr>\n",
       "      <th>14</th>\n",
       "      <th>Martin Maldonado</th>\n",
       "      <th>Astros</th>\n",
       "      <th>.223</th>\n",
       "      <td>.231</td>\n",
       "    </tr>\n",
       "  </tbody>\n",
       "</table>\n",
       "</div>"
      ],
      "text/plain": [
       "                                                   MLB Trade Stats 2018 Batters \n",
       "   Name               Team          BeforeTradeAVG                AfterTradeAVG \n",
       "0   Jonathan Schoop   Brewers        .244                                 .202  \n",
       "1   Austin Meadows    Rays           .292                                .250   \n",
       "2   Brian Dozier      Dodgers        .227                                 .182  \n",
       "3   Logan Forsythe    Twins          .207                               .258    \n",
       "4   Wilson Ramos      Phillies       .297                                  .337 \n",
       "5   Leonys Martin     Indians        .251                                 .333  \n",
       "6   Tommy Pham        Rays           .248                                 .343  \n",
       "7   Ian Kinsler       Red Sox       .239                                   .242 \n",
       "8   Adam Duvall       Braves         .205                                  .132 \n",
       "9   Luke Voit         Yankees        .182                                  .333 \n",
       "10  Mike Moustakas    Brewers        .249                                  .256 \n",
       "11  Asdrubal Cabrera  Phillies       .277                                  .228 \n",
       "12  Eduardo Escobar   Diamondbacks   .274                                   .268\n",
       "13  Brandon Drury     Blue Jays      .176                                  .154 \n",
       "14  Martin Maldonado  Astros         .223                                 .231  "
      ]
     },
     "execution_count": 14,
     "metadata": {},
     "output_type": "execute_result"
    }
   ],
   "source": [
    "MLB2018batters.head(16)"
   ]
  },
  {
   "cell_type": "code",
   "execution_count": 15,
   "metadata": {},
   "outputs": [
    {
     "data": {
      "text/html": [
       "<div>\n",
       "<style scoped>\n",
       "    .dataframe tbody tr th:only-of-type {\n",
       "        vertical-align: middle;\n",
       "    }\n",
       "\n",
       "    .dataframe tbody tr th {\n",
       "        vertical-align: top;\n",
       "    }\n",
       "\n",
       "    .dataframe thead th {\n",
       "        text-align: right;\n",
       "    }\n",
       "</style>\n",
       "<table border=\"1\" class=\"dataframe\">\n",
       "  <thead>\n",
       "    <tr style=\"text-align: right;\">\n",
       "      <th></th>\n",
       "      <th></th>\n",
       "      <th></th>\n",
       "      <th></th>\n",
       "      <th>MLB Trade Stats 2018 Pitchers</th>\n",
       "    </tr>\n",
       "  </thead>\n",
       "  <tbody>\n",
       "    <tr>\n",
       "      <th></th>\n",
       "      <th>Name</th>\n",
       "      <th>Team</th>\n",
       "      <th>BeforeTradeERA</th>\n",
       "      <td>AfterTradeERA</td>\n",
       "    </tr>\n",
       "    <tr>\n",
       "      <th>0</th>\n",
       "      <th>Jake Diekman</th>\n",
       "      <th>Diamondbacks</th>\n",
       "      <th>3.69</th>\n",
       "      <td>7.53</td>\n",
       "    </tr>\n",
       "    <tr>\n",
       "      <th>1</th>\n",
       "      <th>Kevin Gausman</th>\n",
       "      <th>Braves</th>\n",
       "      <th>4.43</th>\n",
       "      <td>2.87</td>\n",
       "    </tr>\n",
       "    <tr>\n",
       "      <th>2</th>\n",
       "      <th>Chris Archer</th>\n",
       "      <th>Pirates</th>\n",
       "      <th>4.31</th>\n",
       "      <td>4.30</td>\n",
       "    </tr>\n",
       "    <tr>\n",
       "      <th>3</th>\n",
       "      <th>Tyler Glasnow</th>\n",
       "      <th>Rays</th>\n",
       "      <th>4.34</th>\n",
       "      <td>4.20</td>\n",
       "    </tr>\n",
       "    <tr>\n",
       "      <th>4</th>\n",
       "      <th>Brandon Kintzler</th>\n",
       "      <th>Cubs</th>\n",
       "      <th>3.59</th>\n",
       "      <td>7.00</td>\n",
       "    </tr>\n",
       "    <tr>\n",
       "      <th>5</th>\n",
       "      <th>Brad Ziegler</th>\n",
       "      <th>Diamondbacks</th>\n",
       "      <th>3.98</th>\n",
       "      <td>3.74</td>\n",
       "    </tr>\n",
       "    <tr>\n",
       "      <th>6</th>\n",
       "      <th>Keone Kela</th>\n",
       "      <th>Pirates</th>\n",
       "      <th>3.44</th>\n",
       "      <td>2.93</td>\n",
       "    </tr>\n",
       "    <tr>\n",
       "      <th>7</th>\n",
       "      <th>Lance Lynn</th>\n",
       "      <th>Yankees</th>\n",
       "      <th>5.10</th>\n",
       "      <td>4.14</td>\n",
       "    </tr>\n",
       "    <tr>\n",
       "      <th>8</th>\n",
       "      <th>Adam Warren</th>\n",
       "      <th>Mariners</th>\n",
       "      <th>2.70</th>\n",
       "      <td>3.74</td>\n",
       "    </tr>\n",
       "    <tr>\n",
       "      <th>9</th>\n",
       "      <th>Roberto Osuna</th>\n",
       "      <th>Astros</th>\n",
       "      <th>2.93</th>\n",
       "      <td>1.99</td>\n",
       "    </tr>\n",
       "    <tr>\n",
       "      <th>10</th>\n",
       "      <th>Ken Giles</th>\n",
       "      <th>Blue Jays</th>\n",
       "      <th>4.99</th>\n",
       "      <td>4.12</td>\n",
       "    </tr>\n",
       "    <tr>\n",
       "      <th>11</th>\n",
       "      <th>Brad Brach</th>\n",
       "      <th>Braves</th>\n",
       "      <th>4.85</th>\n",
       "      <td>1.52</td>\n",
       "    </tr>\n",
       "    <tr>\n",
       "      <th>12</th>\n",
       "      <th>Chasen Shreve</th>\n",
       "      <th>Cardinals</th>\n",
       "      <th>4.26</th>\n",
       "      <td>3.07</td>\n",
       "    </tr>\n",
       "    <tr>\n",
       "      <th>13</th>\n",
       "      <th>Ryan Pressly</th>\n",
       "      <th>Astros</th>\n",
       "      <th>3.40</th>\n",
       "      <td>0.77</td>\n",
       "    </tr>\n",
       "    <tr>\n",
       "      <th>14</th>\n",
       "      <th>Jonny Venters</th>\n",
       "      <th>Braves</th>\n",
       "      <th>3.86</th>\n",
       "      <td>3.54</td>\n",
       "    </tr>\n",
       "    <tr>\n",
       "      <th>15</th>\n",
       "      <th>Cole Hamels</th>\n",
       "      <th>Cubs</th>\n",
       "      <th>4.72</th>\n",
       "      <td>2.36</td>\n",
       "    </tr>\n",
       "    <tr>\n",
       "      <th>16</th>\n",
       "      <th>J.A. Happ</th>\n",
       "      <th>Yankees</th>\n",
       "      <th>4.18</th>\n",
       "      <td>2.69</td>\n",
       "    </tr>\n",
       "    <tr>\n",
       "      <th>17</th>\n",
       "      <th>Joakim Soria</th>\n",
       "      <th>Brewers</th>\n",
       "      <th>2.56</th>\n",
       "      <td>4.09</td>\n",
       "    </tr>\n",
       "    <tr>\n",
       "      <th>18</th>\n",
       "      <th>Nathan Eovaldi</th>\n",
       "      <th>Red Sox</th>\n",
       "      <th>4.26</th>\n",
       "      <td>3.33</td>\n",
       "    </tr>\n",
       "    <tr>\n",
       "      <th>19</th>\n",
       "      <th>Matt Andriese</th>\n",
       "      <th>Diamondbacks</th>\n",
       "      <th>4.07</th>\n",
       "      <td>9.00</td>\n",
       "    </tr>\n",
       "    <tr>\n",
       "      <th>20</th>\n",
       "      <th>Zach Britton</th>\n",
       "      <th>Yankees</th>\n",
       "      <th>3.45</th>\n",
       "      <td>2.88</td>\n",
       "    </tr>\n",
       "    <tr>\n",
       "      <th>21</th>\n",
       "      <th>Brad Hand</th>\n",
       "      <th>Indians</th>\n",
       "      <th>3.05</th>\n",
       "      <td>2.28</td>\n",
       "    </tr>\n",
       "  </tbody>\n",
       "</table>\n",
       "</div>"
      ],
      "text/plain": [
       "                                                   MLB Trade Stats 2018 Pitchers \n",
       "   Name               Team          BeforeTradeERA                  AfterTradeERA\n",
       "0   Jake Diekman      Diamondbacks   3.69                                  7.53  \n",
       "1   Kevin Gausman     Braves         4.43                                   2.87 \n",
       "2   Chris Archer      Pirates        4.31                                   4.30 \n",
       "3   Tyler Glasnow     Rays           4.34                                  4.20  \n",
       "4   Brandon Kintzler  Cubs           3.59                                  7.00  \n",
       "5   Brad Ziegler      Diamondbacks   3.98                                  3.74  \n",
       "6   Keone Kela        Pirates        3.44                                  2.93  \n",
       "7   Lance Lynn        Yankees        5.10                                   4.14 \n",
       "8   Adam Warren       Mariners       2.70                                   3.74 \n",
       "9   Roberto Osuna     Astros         2.93                                   1.99 \n",
       "10  Ken Giles         Blue Jays      4.99                                   4.12 \n",
       "11  Brad Brach        Braves         4.85                                   1.52 \n",
       "12  Chasen Shreve     Cardinals      4.26                                  3.07  \n",
       "13  Ryan Pressly      Astros         3.40                                  0.77  \n",
       "14  Jonny Venters     Braves         3.86                                   3.54 \n",
       "15  Cole Hamels       Cubs           4.72                                   2.36 \n",
       "16  J.A. Happ         Yankees        4.18                                   2.69 \n",
       "17  Joakim Soria      Brewers        2.56                                  4.09  \n",
       "18  Nathan Eovaldi    Red Sox        4.26                                   3.33 \n",
       "19  Matt Andriese     Diamondbacks   4.07                                 9.00   \n",
       "20  Zach Britton      Yankees        3.45                                  2.88  \n",
       "21  Brad Hand         Indians        3.05                                  2.28  "
      ]
     },
     "execution_count": 15,
     "metadata": {},
     "output_type": "execute_result"
    }
   ],
   "source": [
    "MLB2018pitchers.head(23)"
   ]
  },
  {
   "cell_type": "code",
   "execution_count": 16,
   "metadata": {},
   "outputs": [
    {
     "name": "stdout",
     "output_type": "stream",
     "text": [
      "MLB2018batters_BeforeTradeAVG\n"
     ]
    }
   ],
   "source": [
    "print(\"MLB2018batters_BeforeTradeAVG\")"
   ]
  },
  {
   "cell_type": "code",
   "execution_count": 17,
   "metadata": {},
   "outputs": [
    {
     "name": "stdout",
     "output_type": "stream",
     "text": [
      "MLB2018batters_AfterTradeAVG\n"
     ]
    }
   ],
   "source": [
    "print(\"MLB2018batters_AfterTradeAVG\")"
   ]
  },
  {
   "cell_type": "code",
   "execution_count": 18,
   "metadata": {},
   "outputs": [
    {
     "name": "stdout",
     "output_type": "stream",
     "text": [
      "MLB2018pitchers_BeforeTradeERA\n"
     ]
    }
   ],
   "source": [
    "print(\"MLB2018pitchers_BeforeTradeERA\")"
   ]
  },
  {
   "cell_type": "code",
   "execution_count": 19,
   "metadata": {},
   "outputs": [
    {
     "name": "stdout",
     "output_type": "stream",
     "text": [
      "MLB2018pitchers_AfterTradeERA\n"
     ]
    }
   ],
   "source": [
    "print(\"MLB2018pitchers_AfterTradeERA\")"
   ]
  },
  {
   "cell_type": "code",
   "execution_count": 20,
   "metadata": {},
   "outputs": [],
   "source": [
    "import matplotlib.pyplot as plt\n",
    "import numpy as np"
   ]
  },
  {
   "cell_type": "code",
   "execution_count": 21,
   "metadata": {},
   "outputs": [
    {
     "name": "stdout",
     "output_type": "stream",
     "text": [
      "    BeforeTradeERA\n",
      "0             3.69\n",
      "1             4.43\n",
      "2             4.31\n",
      "3             4.34\n",
      "4             3.59\n",
      "5             3.98\n",
      "6             3.44\n",
      "7             5.10\n",
      "8             2.70\n",
      "9             2.93\n",
      "10            4.99\n",
      "11            4.85\n",
      "12            4.26\n",
      "13            3.40\n",
      "14            3.86\n",
      "15            4.72\n",
      "16            4.18\n",
      "17            2.56\n",
      "18            4.26\n",
      "19            4.07\n",
      "20            3.45\n",
      "21            3.05\n",
      "22            3.17\n"
     ]
    }
   ],
   "source": [
    "a = MLB2018pitchers_BeforeTradeERA \n",
    "print(a)"
   ]
  },
  {
   "cell_type": "code",
   "execution_count": 22,
   "metadata": {},
   "outputs": [
    {
     "name": "stdout",
     "output_type": "stream",
     "text": [
      "    AfterTradeERA\n",
      "0            7.53\n",
      "1            2.87\n",
      "2            4.30\n",
      "3            4.20\n",
      "4            7.00\n",
      "5            3.74\n",
      "6            2.93\n",
      "7            4.14\n",
      "8            3.74\n",
      "9            1.99\n",
      "10           4.12\n",
      "11           1.52\n",
      "12           3.07\n",
      "13           0.77\n",
      "14           3.54\n",
      "15           2.36\n",
      "16           2.69\n",
      "17           4.09\n",
      "18           3.33\n",
      "19           9.00\n",
      "20           2.88\n",
      "21           2.28\n",
      "22           4.05\n"
     ]
    }
   ],
   "source": [
    "b = MLB2018pitchers_AfterTradeERA \n",
    "print(b)"
   ]
  },
  {
   "cell_type": "code",
   "execution_count": 23,
   "metadata": {},
   "outputs": [
    {
     "name": "stdout",
     "output_type": "stream",
     "text": [
      "    BeforeTradeAVG \n",
      "0             0.244\n",
      "1             0.292\n",
      "2             0.227\n",
      "3             0.207\n",
      "4             0.297\n",
      "5             0.251\n",
      "6             0.248\n",
      "7             0.239\n",
      "8             0.205\n",
      "9             0.182\n",
      "10            0.249\n",
      "11            0.277\n",
      "12            0.274\n",
      "13            0.176\n",
      "14            0.223\n",
      "15            0.315\n"
     ]
    }
   ],
   "source": [
    "c = MLB2018batters_BeforeTradeAVG\n",
    "print(c)"
   ]
  },
  {
   "cell_type": "code",
   "execution_count": 24,
   "metadata": {},
   "outputs": [
    {
     "name": "stdout",
     "output_type": "stream",
     "text": [
      "    AfterTradeAVG \n",
      "0            0.202\n",
      "1            0.250\n",
      "2            0.182\n",
      "3            0.258\n",
      "4            0.337\n",
      "5            0.333\n",
      "6            0.343\n",
      "7            0.242\n",
      "8            0.132\n",
      "9            0.333\n",
      "10           0.256\n",
      "11           0.228\n",
      "12           0.268\n",
      "13           0.154\n",
      "14           0.231\n",
      "15           0.273\n"
     ]
    }
   ],
   "source": [
    "d = MLB2018batters_AfterTradeAVG\n",
    "print(d)"
   ]
  },
  {
   "cell_type": "markdown",
   "metadata": {},
   "source": [
    "# This plot shows that the trade of pitchers in 2018 did not drastically change the ERA of most pitchers. As you can see on the plot below, almost all of the Xs are on top of each other meaning there was not a large change in era. "
   ]
  },
  {
   "cell_type": "code",
   "execution_count": 25,
   "metadata": {},
   "outputs": [
    {
     "data": {
      "image/png": "[encoded data removed]",
      "text/plain": [
       "<Figure size 432x288 with 1 Axes>"
      ]
     },
     "metadata": {
      "needs_background": "light"
     },
     "output_type": "display_data"
    }
   ],
   "source": [
    "import matplotlib.pyplot as plt\n",
    "\n",
    "x_axis = [a, b]\n",
    "y_axis = [a, b]\n",
    "\n",
    "plt.title(\"MLB 2018 Pitchers ERA Before and After Being Traded\")\n",
    "plt.scatter(x_axis, y_axis, color='darkblue', marker='x', label=\"item 1\")\n",
    "\n",
    "plt.xlabel(\"PITCHERS\")\n",
    "plt.ylabel(\"ERA\")\n",
    "\n",
    "plt.grid(True)\n",
    "plt.legend()\n",
    "\n",
    "plt.show()"
   ]
  },
  {
   "cell_type": "markdown",
   "metadata": {},
   "source": [
    "# The plot below shows a comparison of the batting average (AVG) of batters before and after they were traded in the 2018 MLB season. As you can see on the plot, the batting averages of the players (Xs) (Red) is pretty diversified. This means that there were drastic increases and decreases in batting average (AVG) from before and after the trades occured for batters.  "
   ]
  },
  {
   "cell_type": "code",
   "execution_count": 26,
   "metadata": {},
   "outputs": [
    {
     "data": {
      "image/png": "[encoded data removed]",
      "text/plain": [
       "<Figure size 432x288 with 1 Axes>"
      ]
     },
     "metadata": {
      "needs_background": "light"
     },
     "output_type": "display_data"
    }
   ],
   "source": [
    "x_axis = [c, d]\n",
    "y_axis = [c, d]\n",
    " \n",
    "plt.title(\"MLB 2018 Batters AVG Before and After Being Traded\")\n",
    "plt.scatter(x_axis, y_axis, color='red', marker='x', label=\"item 1\")\n",
    "\n",
    "plt.xlabel(\"BATTERS\")\n",
    "plt.ylabel(\"AVG\")\n",
    "\n",
    "plt.grid(True)\n",
    "plt.legend()\n",
    "\n",
    "plt.show()"
   ]
  },
  {
   "cell_type": "markdown",
   "metadata": {},
   "source": [
    "# Next, I am going to be working with the MLB trade data from 2019. Here I will display the stats of every player who was traded in 2019.   "
   ]
  },
  {
   "cell_type": "code",
   "execution_count": 27,
   "metadata": {},
   "outputs": [
    {
     "data": {
      "text/html": [
       "<div>\n",
       "<style scoped>\n",
       "    .dataframe tbody tr th:only-of-type {\n",
       "        vertical-align: middle;\n",
       "    }\n",
       "\n",
       "    .dataframe tbody tr th {\n",
       "        vertical-align: top;\n",
       "    }\n",
       "\n",
       "    .dataframe thead th {\n",
       "        text-align: right;\n",
       "    }\n",
       "</style>\n",
       "<table border=\"1\" class=\"dataframe\">\n",
       "  <thead>\n",
       "    <tr style=\"text-align: right;\">\n",
       "      <th></th>\n",
       "      <th></th>\n",
       "      <th></th>\n",
       "      <th></th>\n",
       "      <th>MLB Trade Stats 2019 Batters</th>\n",
       "    </tr>\n",
       "  </thead>\n",
       "  <tbody>\n",
       "    <tr>\n",
       "      <th></th>\n",
       "      <th>Name</th>\n",
       "      <th>Team</th>\n",
       "      <th>BeforeTradeAVG</th>\n",
       "      <td>AfterTradeAVG</td>\n",
       "    </tr>\n",
       "    <tr>\n",
       "      <th>0</th>\n",
       "      <th>Scooter Gennett</th>\n",
       "      <th>Giants</th>\n",
       "      <th>.217</th>\n",
       "      <td>.234</td>\n",
       "    </tr>\n",
       "    <tr>\n",
       "      <th>1</th>\n",
       "      <th>Nicholas Castellanos</th>\n",
       "      <th>Cubs</th>\n",
       "      <th>.273</th>\n",
       "      <td>.321</td>\n",
       "    </tr>\n",
       "    <tr>\n",
       "      <th>2</th>\n",
       "      <th>Max Stassi</th>\n",
       "      <th>Angels</th>\n",
       "      <th>.167</th>\n",
       "      <td>.071</td>\n",
       "    </tr>\n",
       "    <tr>\n",
       "      <th>3</th>\n",
       "      <th>Derek Fisher</th>\n",
       "      <th>Blue Jays</th>\n",
       "      <th>.226</th>\n",
       "      <td>.161</td>\n",
       "    </tr>\n",
       "    <tr>\n",
       "      <th>4</th>\n",
       "      <th>John Ryan Murphy</th>\n",
       "      <th>Braves</th>\n",
       "      <th>.177</th>\n",
       "      <td>.000</td>\n",
       "    </tr>\n",
       "    <tr>\n",
       "      <th>5</th>\n",
       "      <th>Jedd Gyorko</th>\n",
       "      <th>Dodgers</th>\n",
       "      <th>.196</th>\n",
       "      <td>.139</td>\n",
       "    </tr>\n",
       "    <tr>\n",
       "      <th>6</th>\n",
       "      <th>Corey Dickerson</th>\n",
       "      <th>Phillies</th>\n",
       "      <th>.315</th>\n",
       "      <td>.293</td>\n",
       "    </tr>\n",
       "    <tr>\n",
       "      <th>7</th>\n",
       "      <th>Martin Maldonado</th>\n",
       "      <th>Astros</th>\n",
       "      <th>.227</th>\n",
       "      <td>.202</td>\n",
       "    </tr>\n",
       "    <tr>\n",
       "      <th>8</th>\n",
       "      <th>Tony Kemp</th>\n",
       "      <th>Cubs</th>\n",
       "      <th>.227</th>\n",
       "      <td>.183</td>\n",
       "    </tr>\n",
       "    <tr>\n",
       "      <th>9</th>\n",
       "      <th>Jesus Aguilar</th>\n",
       "      <th>Rays</th>\n",
       "      <th>.225</th>\n",
       "      <td>.261</td>\n",
       "    </tr>\n",
       "    <tr>\n",
       "      <th>10</th>\n",
       "      <th>Yasiel Puig</th>\n",
       "      <th>Indians</th>\n",
       "      <th>.252</th>\n",
       "      <td>.297</td>\n",
       "    </tr>\n",
       "    <tr>\n",
       "      <th>11</th>\n",
       "      <th>Franmil Reyes</th>\n",
       "      <th>Indians</th>\n",
       "      <th>.255</th>\n",
       "      <td>.237</td>\n",
       "    </tr>\n",
       "  </tbody>\n",
       "</table>\n",
       "</div>"
      ],
      "text/plain": [
       "                                                    MLB Trade Stats 2019 Batters \n",
       "   Name                   Team       BeforeTradeAVG                 AfterTradeAVG\n",
       "0   Scooter Gennett       Giants      .217                                 .234  \n",
       "1   Nicholas Castellanos  Cubs        .273                                  .321 \n",
       "2   Max Stassi            Angels      .167                                  .071 \n",
       "3   Derek Fisher          Blue Jays   .226                                  .161 \n",
       "4   John Ryan Murphy      Braves      .177                                  .000 \n",
       "5   Jedd Gyorko           Dodgers     .196                                .139   \n",
       "6   Corey Dickerson       Phillies    .315                                 .293  \n",
       "7   Martin Maldonado      Astros       .227                                 .202 \n",
       "8   Tony Kemp             Cubs        .227                                   .183\n",
       "9   Jesus Aguilar         Rays        .225                                   .261\n",
       "10  Yasiel Puig           Indians     .252                                   .297\n",
       "11  Franmil Reyes         Indians     .255                                   .237"
      ]
     },
     "execution_count": 27,
     "metadata": {},
     "output_type": "execute_result"
    }
   ],
   "source": [
    "MLB2019batters.head(13)"
   ]
  },
  {
   "cell_type": "code",
   "execution_count": 28,
   "metadata": {},
   "outputs": [
    {
     "data": {
      "text/html": [
       "<div>\n",
       "<style scoped>\n",
       "    .dataframe tbody tr th:only-of-type {\n",
       "        vertical-align: middle;\n",
       "    }\n",
       "\n",
       "    .dataframe tbody tr th {\n",
       "        vertical-align: top;\n",
       "    }\n",
       "\n",
       "    .dataframe thead th {\n",
       "        text-align: right;\n",
       "    }\n",
       "</style>\n",
       "<table border=\"1\" class=\"dataframe\">\n",
       "  <thead>\n",
       "    <tr style=\"text-align: right;\">\n",
       "      <th></th>\n",
       "      <th></th>\n",
       "      <th></th>\n",
       "      <th></th>\n",
       "      <th>MLB Trade Stats 2019 Pitchers</th>\n",
       "    </tr>\n",
       "  </thead>\n",
       "  <tbody>\n",
       "    <tr>\n",
       "      <th></th>\n",
       "      <th>Name</th>\n",
       "      <th>Team</th>\n",
       "      <th>BeforeTradeERA</th>\n",
       "      <td>AfterTradeERA</td>\n",
       "    </tr>\n",
       "    <tr>\n",
       "      <th>0</th>\n",
       "      <th>Adam Kolarek</th>\n",
       "      <th>Dodgers</th>\n",
       "      <th>3.95</th>\n",
       "      <td>0.77</td>\n",
       "    </tr>\n",
       "    <tr>\n",
       "      <th>1</th>\n",
       "      <th>Sam Dyson</th>\n",
       "      <th>Twins</th>\n",
       "      <th>2.47</th>\n",
       "      <td>7.15</td>\n",
       "    </tr>\n",
       "    <tr>\n",
       "      <th>2</th>\n",
       "      <th>Mark Melancon</th>\n",
       "      <th>Braves</th>\n",
       "      <th>3.50</th>\n",
       "      <td>3.86</td>\n",
       "    </tr>\n",
       "    <tr>\n",
       "      <th>3</th>\n",
       "      <th>Zack Greinke</th>\n",
       "      <th>Astros</th>\n",
       "      <th>2.90</th>\n",
       "      <td>3.02</td>\n",
       "    </tr>\n",
       "    <tr>\n",
       "      <th>4</th>\n",
       "      <th>Mike Leake</th>\n",
       "      <th>Diamondbacks</th>\n",
       "      <th>4.27</th>\n",
       "      <td>4.35</td>\n",
       "    </tr>\n",
       "    <tr>\n",
       "      <th>5</th>\n",
       "      <th>Aaron Sanchez</th>\n",
       "      <th>Astros</th>\n",
       "      <th>6.07</th>\n",
       "      <td>4.82</td>\n",
       "    </tr>\n",
       "    <tr>\n",
       "      <th>6</th>\n",
       "      <th>Joe Biagini</th>\n",
       "      <th>Astros</th>\n",
       "      <th>3.78</th>\n",
       "      <td>7.36</td>\n",
       "    </tr>\n",
       "    <tr>\n",
       "      <th>7</th>\n",
       "      <th>Shane Greene</th>\n",
       "      <th>Braves</th>\n",
       "      <th>1.18</th>\n",
       "      <td>4.01</td>\n",
       "    </tr>\n",
       "    <tr>\n",
       "      <th>8</th>\n",
       "      <th>Zac Gallen</th>\n",
       "      <th>Diamondbacks</th>\n",
       "      <th>2.72</th>\n",
       "      <td>2.89</td>\n",
       "    </tr>\n",
       "    <tr>\n",
       "      <th>9</th>\n",
       "      <th>Hunter Strickland</th>\n",
       "      <th>Nationals</th>\n",
       "      <th>8.10</th>\n",
       "      <td>5.14</td>\n",
       "    </tr>\n",
       "    <tr>\n",
       "      <th>10</th>\n",
       "      <th>Tanner Roark</th>\n",
       "      <th>Athletics</th>\n",
       "      <th>4.42</th>\n",
       "      <td>4.58</td>\n",
       "    </tr>\n",
       "    <tr>\n",
       "      <th>11</th>\n",
       "      <th>Drew Pomeranz</th>\n",
       "      <th>Brewers</th>\n",
       "      <th>5.68</th>\n",
       "      <td>2.39</td>\n",
       "    </tr>\n",
       "    <tr>\n",
       "      <th>12</th>\n",
       "      <th>Roenis Elias</th>\n",
       "      <th>Nationals</th>\n",
       "      <th>3.64</th>\n",
       "      <td>9.00</td>\n",
       "    </tr>\n",
       "    <tr>\n",
       "      <th>13</th>\n",
       "      <th>Daniel Hudson</th>\n",
       "      <th>Nationals</th>\n",
       "      <th>3.00</th>\n",
       "      <td>1.44</td>\n",
       "    </tr>\n",
       "    <tr>\n",
       "      <th>14</th>\n",
       "      <th>Trevor Bauer</th>\n",
       "      <th>Reds</th>\n",
       "      <th>3.79</th>\n",
       "      <td>6.39</td>\n",
       "    </tr>\n",
       "  </tbody>\n",
       "</table>\n",
       "</div>"
      ],
      "text/plain": [
       "                                                    MLB Trade Stats 2019 Pitchers \n",
       "   Name                Team          BeforeTradeERA                 AfterTradeERA \n",
       "0   Adam Kolarek       Dodgers        3.95                                  0.77  \n",
       "1   Sam Dyson          Twins          2.47                                 7.15   \n",
       "2   Mark Melancon      Braves         3.50                                   3.86 \n",
       "3   Zack Greinke       Astros         2.90                                   3.02 \n",
       "4   Mike Leake         Diamondbacks   4.27                                  4.35  \n",
       "5   Aaron Sanchez      Astros         6.07                                  4.82  \n",
       "6   Joe Biagini        Astros         3.78                                  7.36  \n",
       "7   Shane Greene       Braves         1.18                                   4.01 \n",
       "8   Zac Gallen         Diamondbacks   2.72                                 2.89   \n",
       "9   Hunter Strickland  Nationals      8.10                                  5.14  \n",
       "10  Tanner Roark       Athletics      4.42                                  4.58  \n",
       "11  Drew Pomeranz      Brewers        5.68                                   2.39 \n",
       "12  Roenis Elias       Nationals      3.64                                  9.00  \n",
       "13  Daniel Hudson      Nationals      3.00                                  1.44  \n",
       "14  Trevor Bauer       Reds           3.79                                   6.39 "
      ]
     },
     "execution_count": 28,
     "metadata": {},
     "output_type": "execute_result"
    }
   ],
   "source": [
    "MLB2019pitchers.head(16)   "
   ]
  },
  {
   "cell_type": "code",
   "execution_count": 29,
   "metadata": {},
   "outputs": [
    {
     "name": "stdout",
     "output_type": "stream",
     "text": [
      "MLB2019batters_BeforeTradeAVG\n"
     ]
    }
   ],
   "source": [
    "print(\"MLB2019batters_BeforeTradeAVG\")"
   ]
  },
  {
   "cell_type": "code",
   "execution_count": 30,
   "metadata": {},
   "outputs": [
    {
     "name": "stdout",
     "output_type": "stream",
     "text": [
      "MLB2019batters_AfterTradeAVG\n"
     ]
    }
   ],
   "source": [
    "print(\"MLB2019batters_AfterTradeAVG\")"
   ]
  },
  {
   "cell_type": "code",
   "execution_count": 31,
   "metadata": {},
   "outputs": [
    {
     "name": "stdout",
     "output_type": "stream",
     "text": [
      "MLB2019pitchers_BeforeTradeERA\n"
     ]
    }
   ],
   "source": [
    "print(\"MLB2019pitchers_BeforeTradeERA\")"
   ]
  },
  {
   "cell_type": "code",
   "execution_count": 32,
   "metadata": {},
   "outputs": [
    {
     "name": "stdout",
     "output_type": "stream",
     "text": [
      "MLB2019pitchers_AfterTradeERA\n"
     ]
    }
   ],
   "source": [
    "print(\"MLB2019pitchers_AfterTradeERA\")"
   ]
  },
  {
   "cell_type": "code",
   "execution_count": 33,
   "metadata": {},
   "outputs": [],
   "source": [
    "import matplotlib.pyplot as plt\n",
    "import numpy as np"
   ]
  },
  {
   "cell_type": "code",
   "execution_count": 34,
   "metadata": {},
   "outputs": [
    {
     "name": "stdout",
     "output_type": "stream",
     "text": [
      "    BeforeTradeERA \n",
      "0              3.95\n",
      "1              2.47\n",
      "2              3.50\n",
      "3              2.90\n",
      "4              4.27\n",
      "5              6.07\n",
      "6              3.78\n",
      "7              1.18\n",
      "8              2.72\n",
      "9              8.10\n",
      "10             4.42\n",
      "11             5.68\n",
      "12             3.64\n",
      "13             3.00\n",
      "14             3.79\n"
     ]
    }
   ],
   "source": [
    "e = MLB2019pitchers_BeforeTradeERA \n",
    "print(e)"
   ]
  },
  {
   "cell_type": "code",
   "execution_count": 35,
   "metadata": {},
   "outputs": [
    {
     "name": "stdout",
     "output_type": "stream",
     "text": [
      "    AfterTradeERA \n",
      "0             0.77\n",
      "1             7.15\n",
      "2             3.86\n",
      "3             3.02\n",
      "4             4.35\n",
      "5             4.82\n",
      "6             7.36\n",
      "7             4.01\n",
      "8             2.89\n",
      "9             5.14\n",
      "10            4.58\n",
      "11            2.39\n",
      "12            9.00\n",
      "13            1.44\n",
      "14            6.39\n"
     ]
    }
   ],
   "source": [
    "f = MLB2019pitchers_AfterTradeERA \n",
    "print(f) "
   ]
  },
  {
   "cell_type": "code",
   "execution_count": 36,
   "metadata": {},
   "outputs": [
    {
     "name": "stdout",
     "output_type": "stream",
     "text": [
      "    BeforeTradeAVG \n",
      "0             0.217\n",
      "1             0.273\n",
      "2             0.167\n",
      "3             0.226\n",
      "4             0.177\n",
      "5             0.196\n",
      "6             0.315\n",
      "7             0.227\n",
      "8             0.227\n",
      "9             0.225\n",
      "10            0.252\n",
      "11            0.255\n"
     ]
    }
   ],
   "source": [
    "g = MLB2019batters_BeforeTradeAVG \n",
    "print(g)"
   ]
  },
  {
   "cell_type": "code",
   "execution_count": 37,
   "metadata": {},
   "outputs": [
    {
     "name": "stdout",
     "output_type": "stream",
     "text": [
      "    AfterTradeAVG \n",
      "0            0.234\n",
      "1            0.321\n",
      "2            0.071\n",
      "3            0.161\n",
      "4            0.000\n",
      "5            0.139\n",
      "6            0.293\n",
      "7            0.202\n",
      "8            0.183\n",
      "9            0.261\n",
      "10           0.297\n",
      "11           0.237\n"
     ]
    }
   ],
   "source": [
    "h = MLB2019batters_AfterTradeAVG\n",
    "print(h)"
   ]
  },
  {
   "cell_type": "markdown",
   "metadata": {},
   "source": [
    "# "
   ]
  },
  {
   "cell_type": "markdown",
   "metadata": {},
   "source": [
    "# This plot shows that the trade of pitchers in 2019 had an effect on the ERA of most pitchers. As you can see on the plot below, the orange Xs are scattered  pretty well meaning there was a gradual change in era for some pitchers.   "
   ]
  },
  {
   "cell_type": "code",
   "execution_count": 38,
   "metadata": {},
   "outputs": [
    {
     "data": {
      "image/png": "[encoded data removed]",
      "text/plain": [
       "<Figure size 432x288 with 1 Axes>"
      ]
     },
     "metadata": {
      "needs_background": "light"
     },
     "output_type": "display_data"
    }
   ],
   "source": [
    "import matplotlib.pyplot as plt\n",
    "\n",
    "x_axis = [e, f]\n",
    "y_axis = [e, f]\n",
    "\n",
    "plt.title(\"MLB 2019 Pitchers ERA Before and After Being Traded\")\n",
    "plt.scatter(x_axis, y_axis, color='orange', marker='x', label=\"item 1\")\n",
    "\n",
    "plt.xlabel(\"PITCHERS\")\n",
    "plt.ylabel(\"ERA\")\n",
    "\n",
    "plt.grid(True)\n",
    "plt.legend()\n",
    "\n",
    "plt.show()"
   ]
  },
  {
   "cell_type": "markdown",
   "metadata": {},
   "source": [
    "# The plot below shows a comparison of the batting average (AVG) of batters before and after they were traded in the 2019 MLB season. As you can see on the plot, the batting averages of the players (Xs) (Green) are all right by each other. This means that there was little change in batting average (AVG) from before and after the trades occured.   "
   ]
  },
  {
   "cell_type": "code",
   "execution_count": 45,
   "metadata": {},
   "outputs": [
    {
     "data": {
      "image/png": "[encoded data removed]",
      "text/plain": [
       "<Figure size 432x288 with 1 Axes>"
      ]
     },
     "metadata": {
      "needs_background": "light"
     },
     "output_type": "display_data"
    }
   ],
   "source": [
    "import matplotlib.pyplot as plt\n",
    "\n",
    "x_axis = [g, h]\n",
    "y_axis = [g, h]\n",
    "\n",
    "plt.title(\"MLB 2019 Batters AVG Before and After Being Traded\")\n",
    "plt.scatter(x_axis, y_axis, color='green', marker='x', label=\"item 1\")\n",
    "\n",
    "plt.xlabel(\"BATTERS\")\n",
    "plt.ylabel(\"AVG\")\n",
    "\n",
    "plt.grid(True)\n",
    "plt.legend()\n",
    "\n",
    "plt.show()"
   ]
  },
  {
   "cell_type": "markdown",
   "metadata": {},
   "source": [
    "## "
   ]
  },
  {
   "cell_type": "markdown",
   "metadata": {},
   "source": [
    "# Here, I will compare the Batters stats from 2018 and 2019 in the MLB.  "
   ]
  },
  {
   "cell_type": "markdown",
   "metadata": {},
   "source": [
    "## 2018 Batter Stats"
   ]
  },
  {
   "cell_type": "code",
   "execution_count": 40,
   "metadata": {},
   "outputs": [
    {
     "data": {
      "image/png": "[encoded data removed]",
      "text/plain": [
       "<Figure size 432x288 with 1 Axes>"
      ]
     },
     "metadata": {
      "needs_background": "light"
     },
     "output_type": "display_data"
    }
   ],
   "source": [
    "x_axis = [c, d]\n",
    "y_axis = [c, d]\n",
    " \n",
    "plt.title(\"MLB 2018 Batters AVG Before and After Being Traded\")\n",
    "plt.scatter(x_axis, y_axis, color='red', marker='x', label=\"item 1\")\n",
    "\n",
    "plt.xlabel(\"BATTERS\")\n",
    "plt.ylabel(\"AVG\")\n",
    "\n",
    "plt.grid(True)\n",
    "plt.legend()\n",
    "\n",
    "plt.show()"
   ]
  },
  {
   "cell_type": "markdown",
   "metadata": {},
   "source": [
    "## 2019 Batter Stats"
   ]
  },
  {
   "cell_type": "code",
   "execution_count": 43,
   "metadata": {},
   "outputs": [
    {
     "data": {
      "image/png": "[encoded data removed]",
      "text/plain": [
       "<Figure size 432x288 with 1 Axes>"
      ]
     },
     "metadata": {
      "needs_background": "light"
     },
     "output_type": "display_data"
    }
   ],
   "source": [
    "import matplotlib.pyplot as plt\n",
    "\n",
    "x_axis = [g, h]\n",
    "y_axis = [g, h]\n",
    "\n",
    "plt.title(\"MLB 2019 Batters AVG Before and After Being Traded\")\n",
    "plt.scatter(x_axis, y_axis, color='green', marker='x', label=\"item 1\")\n",
    "\n",
    "plt.xlabel(\"BATTERS\")\n",
    "plt.ylabel(\"AVG\")\n",
    "\n",
    "plt.grid(True)\n",
    "plt.legend()\n",
    "\n",
    "plt.show()"
   ]
  },
  {
   "cell_type": "markdown",
   "metadata": {},
   "source": [
    "## "
   ]
  },
  {
   "cell_type": "markdown",
   "metadata": {},
   "source": [
    "# Conclusion for Best Trade Year for Batters between 2018 and 2019 "
   ]
  },
  {
   "cell_type": "markdown",
   "metadata": {},
   "source": [
    "### I have come to the conclusion that 2019 was a better trade year for batters than 2018 was. I came up with this conclusion because if you look at both plots, you can see that almost all of the green Xs are trending upwards in 2019. This means that the batting averages (AVG) were continually improving. In 2018, there are more X's piled on top of each other lower down on the plot. This tells me that less batters who were traded had improvements in their batting averages (AVG) in 2018 than in 2019.  "
   ]
  },
  {
   "cell_type": "markdown",
   "metadata": {},
   "source": [
    "#  "
   ]
  },
  {
   "cell_type": "markdown",
   "metadata": {},
   "source": [
    "# Here, I will compare the Pitchers stats from 2018 and 2019 in the MLB.  "
   ]
  },
  {
   "cell_type": "markdown",
   "metadata": {},
   "source": [
    "## 2018 Pitcher Stats "
   ]
  },
  {
   "cell_type": "code",
   "execution_count": 44,
   "metadata": {},
   "outputs": [
    {
     "data": {
      "image/png": "[encoded data removed]",
      "text/plain": [
       "<Figure size 432x288 with 1 Axes>"
      ]
     },
     "metadata": {
      "needs_background": "light"
     },
     "output_type": "display_data"
    }
   ],
   "source": [
    "import matplotlib.pyplot as plt\n",
    "\n",
    "x_axis = [a, b]\n",
    "y_axis = [a, b]\n",
    "\n",
    "plt.title(\"MLB 2018 Pitchers ERA Before and After Being Traded\")\n",
    "plt.scatter(x_axis, y_axis, color='darkblue', marker='x', label=\"item 1\")\n",
    "\n",
    "plt.xlabel(\"PITCHERS\")\n",
    "plt.ylabel(\"ERA\")\n",
    "\n",
    "plt.grid(True)\n",
    "plt.legend()\n",
    "\n",
    "plt.show()"
   ]
  },
  {
   "cell_type": "markdown",
   "metadata": {},
   "source": [
    "## "
   ]
  },
  {
   "cell_type": "markdown",
   "metadata": {},
   "source": [
    "## 2019 Pitcher Stats "
   ]
  },
  {
   "cell_type": "code",
   "execution_count": 46,
   "metadata": {},
   "outputs": [
    {
     "data": {
      "image/png": "[encoded data removed]",
      "text/plain": [
       "<Figure size 432x288 with 1 Axes>"
      ]
     },
     "metadata": {
      "needs_background": "light"
     },
     "output_type": "display_data"
    }
   ],
   "source": [
    "import matplotlib.pyplot as plt\n",
    "\n",
    "x_axis = [e, f]\n",
    "y_axis = [e, f]\n",
    "\n",
    "plt.title(\"MLB 2019 Pitchers ERA Before and After Being Traded\")\n",
    "plt.scatter(x_axis, y_axis, color='orange', marker='x', label=\"item 1\")\n",
    "\n",
    "plt.xlabel(\"PITCHERS\")\n",
    "plt.ylabel(\"ERA\")\n",
    "\n",
    "plt.grid(True)\n",
    "plt.legend()\n",
    "\n",
    "plt.show()"
   ]
  },
  {
   "cell_type": "markdown",
   "metadata": {},
   "source": [
    "## "
   ]
  },
  {
   "cell_type": "markdown",
   "metadata": {},
   "source": [
    "# Conclusion for Best Trade Year for Pitchers between 2018 and 2019 "
   ]
  },
  {
   "cell_type": "markdown",
   "metadata": {},
   "source": [
    "### I have come to the conclusion that 2018 was a better trade year for pitchers than 2019 was. I came to this conclusion because if you look at both plots you can see that most of the dark blue X's on the 2018 plot are trending downwards. The lower the ERA, the better the pitcher. The 2018 plot shows that most pitchers had a pretty low ERA. In 2019, the plot for pitchers ERA's was a little higher than 2018s ERA plot giving 2018 the edge for the better trade year for pitchers.  "
   ]
  },
  {
   "cell_type": "markdown",
   "metadata": {},
   "source": [
    "## "
   ]
  },
  {
   "cell_type": "markdown",
   "metadata": {},
   "source": [
    "# Overall Conclusion for Best Trade Year "
   ]
  },
  {
   "cell_type": "markdown",
   "metadata": {},
   "source": [
    "## "
   ]
  },
  {
   "cell_type": "markdown",
   "metadata": {},
   "source": [
    "### In the end, each year (2018 and 2019) beat the other at something. The year 2018 had the better overall trade year for pitching. The year 2019 had the best overall year for batting. I would give the edge to 2019 for having the best overall trade year because it was the better year for batting and the pitching in 2019 was only slightly worse than the pitching in 2018. "
   ]
  },
  {
   "cell_type": "markdown",
   "metadata": {},
   "source": [
    "## "
   ]
  },
  {
   "cell_type": "markdown",
   "metadata": {},
   "source": [
    "# Limitations"
   ]
  },
  {
   "cell_type": "markdown",
   "metadata": {},
   "source": [
    "## "
   ]
  },
  {
   "cell_type": "markdown",
   "metadata": {},
   "source": [
    "## I did not have any limitations with my project. I was able to find all of the data that I needed to find in order to answer my question about the best trade year between 2018 and 2019 in the MLB. "
   ]
  },
  {
   "cell_type": "markdown",
   "metadata": {},
   "source": [
    "##  "
   ]
  },
  {
   "cell_type": "markdown",
   "metadata": {},
   "source": [
    "# Post-Evaluation"
   ]
  },
  {
   "cell_type": "markdown",
   "metadata": {},
   "source": [
    "## "
   ]
  },
  {
   "cell_type": "markdown",
   "metadata": {},
   "source": [
    "## I really enjoyed working on this project. I feel like I expanded my knowedge on coding a lot throughout completing it. It always helps when your topic is something that you are interested in and I love baseball so I liked learning how to code the stats. I hope to do more coding like this in the future because I found it very interesting. "
   ]
  }
 ],
 "metadata": {
  "kernelspec": {
   "display_name": "Python 3",
   "language": "python",
   "name": "python3"
  },
  "language_info": {
   "codemirror_mode": {
    "name": "ipython",
    "version": 3
   },
   "file_extension": ".py",
   "mimetype": "text/x-python",
   "name": "python",
   "nbconvert_exporter": "python",
   "pygments_lexer": "ipython3",
   "version": "3.8.5"
  }
 },
 "nbformat": 4,
 "nbformat_minor": 4
}
